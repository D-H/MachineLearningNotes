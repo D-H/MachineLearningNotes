{
 "cells": [
  {
   "cell_type": "markdown",
   "metadata": {},
   "source": [
    "# Pandas Python Library"
   ]
  },
  {
   "cell_type": "markdown",
   "metadata": {},
   "source": [
    "Dropping a column or row."
   ]
  },
  {
   "cell_type": "code",
   "execution_count": null,
   "metadata": {},
   "outputs": [],
   "source": [
    "data_frame.drop([\"ColumnName\"], axis=1) #1 for column and 0 for row"
   ]
  },
  {
   "cell_type": "markdown",
   "metadata": {},
   "source": [
    "### What can a DataFrame hold?\n",
    "\n",
    "1. A Pandas __DataFrame__\n",
    "2. A Pandas __Series__: a one-dimensional labeled array capable of holding any data type with axis labels or index. An example of a Series object is one column from a DataFrame. \n",
    "3. A NumPy __ndarray__, which can be record or structured.\n",
    "4. A two-dimensional __ndarray__.\n",
    "5. Dictionaires of one-dimensional __ndarray__'s list, dictionaires or Series."
   ]
  },
  {
   "cell_type": "markdown",
   "metadata": {},
   "source": [
    "You can specify the __index__ and __column__ names for your DataFrame. The index, indicates the difference in rows, while the column names indicate the difference in columns. These two components of a dataframe come in very handy for manipulating the data. "
   ]
  },
  {
   "cell_type": "markdown",
   "metadata": {},
   "source": [
    "For __loc__ and __iloc__ this is for usually index based selection.\n",
    "\n",
    "__loc__ is for when you want to specify the value of the index\n",
    "__iloc__ is for when you want to specify the position of the index\n",
    "\n",
    "So you can do something like df.loc[row, columns]. Same thing with iloc"
   ]
  },
  {
   "cell_type": "markdown",
   "metadata": {},
   "source": [
    "__corr()__ will give you pair-wise correlation of columns."
   ]
  },
  {
   "cell_type": "markdown",
   "metadata": {},
   "source": [
    "When looking at a method in panadas be sure to check if it has arg before the method name or not. If it has arg before the name it is probably going to return the index but if it does not it will probably just sort the dataframe or series in place. "
   ]
  },
  {
   "cell_type": "markdown",
   "metadata": {},
   "source": [
    "__transform()__ seems like it could be highly usefull."
   ]
  }
 ],
 "metadata": {
  "kernelspec": {
   "display_name": "Python 3",
   "language": "python",
   "name": "python3"
  },
  "language_info": {
   "codemirror_mode": {
    "name": "ipython",
    "version": 3
   },
   "file_extension": ".py",
   "mimetype": "text/x-python",
   "name": "python",
   "nbconvert_exporter": "python",
   "pygments_lexer": "ipython3",
   "version": "3.6.5"
  }
 },
 "nbformat": 4,
 "nbformat_minor": 2
}
