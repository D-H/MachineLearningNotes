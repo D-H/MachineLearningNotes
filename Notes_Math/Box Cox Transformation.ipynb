{
 "cells": [
  {
   "cell_type": "markdown",
   "metadata": {},
   "source": [
    "# Box Cox Transformation\n",
    "\n",
    "It is used to modify the distribution shape of a set of data to be more normally distributed so tests and confidence limits that require normality can be appropriately used. \n",
    "\n",
    "This is actually highly complicated... not sure I want to learn the details"
   ]
  }
 ],
 "metadata": {
  "kernelspec": {
   "display_name": "Python 3",
   "language": "python",
   "name": "python3"
  },
  "language_info": {
   "codemirror_mode": {
    "name": "ipython",
    "version": 3
   },
   "file_extension": ".py",
   "mimetype": "text/x-python",
   "name": "python",
   "nbconvert_exporter": "python",
   "pygments_lexer": "ipython3",
   "version": "3.6.5"
  }
 },
 "nbformat": 4,
 "nbformat_minor": 2
}
