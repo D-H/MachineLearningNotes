{
 "cells": [
  {
   "cell_type": "markdown",
   "metadata": {},
   "source": [
    "__Does it look like the a normal distribution?__"
   ]
  },
  {
   "cell_type": "markdown",
   "metadata": {},
   "source": [
    "__What is it's skewness?__ The skewness describes asymetry in a distribution. It can be thought of how much it deviates from a normal distribution. A right (positive) skew is when the mean exceeds the mode. A left (negative) skew is when the mean is less than the mode.\n",
    "\n",
    "One cool thing about skewness is that you can often fix it. For example, if you distribution is showing positive skewness then you can you can use a log transformation to make it normal again."
   ]
  },
  {
   "cell_type": "markdown",
   "metadata": {},
   "source": [
    "__Does it show peakedness (Kurtosis)?__ How flat is the distribution? How fat are the tails? The fatter the tails the higher the kurtosis."
   ]
  }
 ],
 "metadata": {
  "kernelspec": {
   "display_name": "Python 3",
   "language": "python",
   "name": "python3"
  },
  "language_info": {
   "codemirror_mode": {
    "name": "ipython",
    "version": 3
   },
   "file_extension": ".py",
   "mimetype": "text/x-python",
   "name": "python",
   "nbconvert_exporter": "python",
   "pygments_lexer": "ipython3",
   "version": "3.6.5"
  }
 },
 "nbformat": 4,
 "nbformat_minor": 2
}
