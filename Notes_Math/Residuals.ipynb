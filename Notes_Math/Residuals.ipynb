{
 "cells": [
  {
   "cell_type": "markdown",
   "metadata": {},
   "source": [
    "# Residuals\n",
    "\n",
    "Here is a simple linear regression \n",
    "\n",
    "$Y = B_0 + B_1X + \\epsilon$\n",
    "\n",
    "This is where $\\epsilon$ is a random error component.\n",
    "\n",
    "We assume that the error term($\\epsilon$) is:\n",
    "- Normally distributed\n",
    "- Homescedacity (The save variance at every x)\n",
    "- Independant\n",
    "\n",
    "If those assumptions are true, then the observed residuals:\n",
    "\n",
    "$e_i = Y_i - \\hat{Y}_i$\n",
    "\n",
    "Should behave in a similar fashion.\n",
    "\n",
    "So then what we can do is plot the $\\hat{Y}$ vs $X$.\n",
    "\n",
    "We can look for a constant risidual around 0 and this will tell us that there is indeed a linear relationship. The residuals shoud sum to 0."
   ]
  }
 ],
 "metadata": {
  "kernelspec": {
   "display_name": "Python 3",
   "language": "python",
   "name": "python3"
  },
  "language_info": {
   "codemirror_mode": {
    "name": "ipython",
    "version": 3
   },
   "file_extension": ".py",
   "mimetype": "text/x-python",
   "name": "python",
   "nbconvert_exporter": "python",
   "pygments_lexer": "ipython3",
   "version": "3.6.5"
  }
 },
 "nbformat": 4,
 "nbformat_minor": 2
}
