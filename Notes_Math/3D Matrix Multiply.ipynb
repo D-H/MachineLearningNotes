{
 "cells": [
  {
   "cell_type": "markdown",
   "metadata": {},
   "source": [
    "# 3D Matrix Multiplication\n",
    "\n",
    "https://math.stackexchange.com/questions/63074/is-there-a-3-dimensional-matrix-by-matrix-product"
   ]
  },
  {
   "cell_type": "markdown",
   "metadata": {},
   "source": [
    "Does the matrix multiply have a generalizable form? Could you multiply A[m,l,k] by B[p,q,r]?\n",
    "For this to happen both k and p must be equal to the same value. So we can re-write our two 3D matrixes as this A[m,l,n] by B[n,q,r]. Now the result of this would be a matrix of this shape R[m,l,q,r]. To end up with this resulting matrix we go through the resulting process below."
   ]
  },
  {
   "cell_type": "code",
   "execution_count": 11,
   "metadata": {},
   "outputs": [
    {
     "name": "stdout",
     "output_type": "stream",
     "text": [
      "[[19, 22], [43, 50], [45, 54]]\n"
     ]
    }
   ],
   "source": [
    "# Let's start with the 2-D matrix example.\n",
    "\n",
    "# Create my 2 matrixes of size 2x2\n",
    "A = [[1, 2], [3, 4], [9, 0]] # A[a,n]\n",
    "B = [[5, 6], [7, 8]] # A[n,b]\n",
    "\n",
    "R = [[0, 0], [0, 0], [0, 0]]\n",
    "\n",
    "a = 3\n",
    "b = 2\n",
    "n = 2\n",
    "\n",
    "for a_i in range(a):\n",
    "    for b_i in range(b):\n",
    "        sum = 0\n",
    "        for n_i in range(n):\n",
    "            sum += (A[a_i][n_i])*(B[n_i][b_i])\n",
    "        R[a_i][b_i] = sum\n",
    "\n",
    "print(R)"
   ]
  },
  {
   "cell_type": "code",
   "execution_count": 19,
   "metadata": {},
   "outputs": [
    {
     "name": "stdout",
     "output_type": "stream",
     "text": [
      "11\n",
      "9\n",
      "14\n",
      "22\n",
      "27\n",
      "25\n",
      "34\n",
      "52\n",
      "45\n",
      "63\n",
      "54\n",
      "72\n",
      "27\n",
      "25\n",
      "34\n",
      "52\n",
      "43\n",
      "41\n",
      "54\n",
      "82\n",
      "59\n",
      "57\n",
      "74\n",
      "112\n"
     ]
    }
   ],
   "source": [
    "# Now we can generalize to 3-D matrix example. Can be done for any dimension.\n",
    "\n",
    "# Create my 2 matrixes of size 2x2\n",
    "A = [[[1, 2], [3, 4], [9, 0]],[[3, 4], [5, 6], [7, 8]]] # A[a,j,n]\n",
    "B = [[[5, 6], [7, 8]], [[3, 4], [1, 7]]] # A[n,i,b]\n",
    "\n",
    "#R = [[[0, 0, 0], [0, 0, 0]]\n",
    "#R = [[[0, 0], [0, 0]]]\n",
    "\n",
    "a = 2\n",
    "j = 3\n",
    "b = 2\n",
    "i = 2\n",
    "n = 2\n",
    "\n",
    "for a_i in range(a):\n",
    "    for j_i in range(j):\n",
    "        for b_i in range(b):\n",
    "            for i_i in range(i):\n",
    "                sum = 0\n",
    "                for n_i in range(n):\n",
    "                    sum += (A[a_i][j_i][n_i])*(B[n_i][i_i][b_i])\n",
    "                #R[a_i][j_i][i_i][b_i] = sum\n",
    "                print(sum)"
   ]
  }
 ],
 "metadata": {
  "kernelspec": {
   "display_name": "Python 3",
   "language": "python",
   "name": "python3"
  },
  "language_info": {
   "codemirror_mode": {
    "name": "ipython",
    "version": 3
   },
   "file_extension": ".py",
   "mimetype": "text/x-python",
   "name": "python",
   "nbconvert_exporter": "python",
   "pygments_lexer": "ipython3",
   "version": "3.6.5"
  }
 },
 "nbformat": 4,
 "nbformat_minor": 2
}
