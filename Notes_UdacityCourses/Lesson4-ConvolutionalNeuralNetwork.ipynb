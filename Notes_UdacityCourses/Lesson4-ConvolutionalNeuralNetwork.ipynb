{
 "cells": [
  {
   "cell_type": "markdown",
   "metadata": {},
   "source": [
    "# Convolutional Neural Networks"
   ]
  },
  {
   "cell_type": "markdown",
   "metadata": {},
   "source": [
    "The general idea, is that if your data has some structure. And if your neural network doesn't have to learn that structure from scratch it is going to perform better. \n",
    "\n",
    "Translation-Invariance: When it doesn't really matter when your the object you are trying to recognize occurs in the object. Because you are still trying to find that object specifically. \n",
    "\n",
    "Statistical Invariance: Things that don't change across time or space.\n",
    "\n",
    "The way we acheive this in __neural networks__ is with weight sharing. "
   ]
  },
  {
   "cell_type": "markdown",
   "metadata": {},
   "source": [
    "Convolutional neural networks are networks that share their parameters across space."
   ]
  },
  {
   "cell_type": "markdown",
   "metadata": {},
   "source": [
    "Embedding and recurent neural networks\n",
    "\n",
    "__Patch__: Is the size of the kernel you put over the image when creating your neural network\n",
    "\n",
    "__Depth__: Is the amount of depth your layer currently has. "
   ]
  },
  {
   "cell_type": "markdown",
   "metadata": {},
   "source": [
    "__Feature Map__: Each pancake in your stack is called a feature map\n",
    "\n",
    "__Stride__: Number of pixels you are moving each time."
   ]
  },
  {
   "cell_type": "markdown",
   "metadata": {},
   "source": [
    "The size of your stride and also how you implement you padding (Same or Valid) will change the size of your output. "
   ]
  },
  {
   "cell_type": "markdown",
   "metadata": {},
   "source": [
    "Things to do to improve your convolutional neural net.\n",
    "- Pooling\n",
    "- 1x1 Convolutions\n",
    "- Inception"
   ]
  }
 ],
 "metadata": {
  "kernelspec": {
   "display_name": "Python 3",
   "language": "python",
   "name": "python3"
  },
  "language_info": {
   "codemirror_mode": {
    "name": "ipython",
    "version": 3
   },
   "file_extension": ".py",
   "mimetype": "text/x-python",
   "name": "python",
   "nbconvert_exporter": "python",
   "pygments_lexer": "ipython3",
   "version": "3.6.5"
  }
 },
 "nbformat": 4,
 "nbformat_minor": 2
}
