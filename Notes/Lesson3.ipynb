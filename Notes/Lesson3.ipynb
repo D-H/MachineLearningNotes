{
 "cells": [
  {
   "cell_type": "code",
   "execution_count": 2,
   "metadata": {},
   "outputs": [],
   "source": [
    "from __future__ import print_function\n",
    "import imageio\n",
    "import matplotlib.pyplot as plt\n",
    "import numpy as np\n",
    "import pandas as pd\n",
    "import os\n",
    "import sys\n",
    "import tarfile\n",
    "import random\n",
    "from IPython.display import display, Image\n",
    "from sklearn.linear_model import LogisticRegression\n",
    "from six.moves.urllib.request import urlretrieve\n",
    "from six.moves import cPickle as pickle\n",
    "\n",
    "# Config the matplotlib backend as plotting inline in IPython\n",
    "%matplotlib inline"
   ]
  },
  {
   "cell_type": "markdown",
   "metadata": {},
   "source": [
    "Linear Models Are A Good Thing! It means less interaction between all the components.\n",
    "\n",
    "Linear Models are also more stable, small changes in the input will never lead to large changes in the output. \n",
    "\n",
    "Now just what are __linear functions...__\n",
    "\n",
    "Although we will have to use more than linear functions, for scalability purposes???\n",
    "\n",
    "The simplest of non-linear units is Rectified Linear Units (RELU). They also have nice derivaties as well. "
   ]
  },
  {
   "cell_type": "code",
   "execution_count": 13,
   "metadata": {},
   "outputs": [
    {
     "data": {
      "text/plain": [
       "Text(0,0.5,'y')"
      ]
     },
     "execution_count": 13,
     "metadata": {},
     "output_type": "execute_result"
    },
    {
     "data": {
      "image/png": "[encoded data removed]",
      "text/plain": [
       "<Figure size 432x288 with 1 Axes>"
      ]
     },
     "metadata": {},
     "output_type": "display_data"
    }
   ],
   "source": [
    "relu_data = np.array([[-2, 0], [-1, 0], [0, 0], [1, 1], [2, 2]]).T\n",
    "\n",
    "plt.plot(relu_data[0], relu_data[1])\n",
    "plt.title(\"RELU\")\n",
    "plt.xlabel(\"x\")\n",
    "plt.ylabel(\"y\")"
   ]
  },
  {
   "cell_type": "markdown",
   "metadata": {},
   "source": [
    "RELU's have the property that when x < 0, y = 0 and when x >=0, y = x."
   ]
  },
  {
   "cell_type": "markdown",
   "metadata": {},
   "source": [
    "Forward propagation is when there is a flow of data to make a prediction.\n",
    "\n",
    "Backward propagation is the flow back from the model that enables you to create derivaties much more simply."
   ]
  },
  {
   "cell_type": "markdown",
   "metadata": {},
   "source": [
    "With __regularization__ we can prevent our model from over fitting. This means putting artifical constraints on your network, that implictly reduce the number of free parameters, while not making it more difficult to optimize.\n",
    "\n",
    "This is often done by adding a term to the Loss, that will work to penelize large weights. This new loss is often equal to the L2 Norm of your weight matrix. The L2 Norm stands for the sum of the squares of the elements in a vector. \n",
    "\n",
    "L2 Regulization = $\\frac{1}{2}||w||_2^2$\n",
    "\n",
    "The derivative of the L2 norm is simply equal to w. Also in practice we often put some sort of constant before our regularization function.\n",
    "\n",
    "The data flowing between layers is called __activations__.\n",
    "\n",
    "Another, way to do regularization is to use __dropout__. This works by randomly eliminating some of the activations flowing between layers. What this will do is force your network to learn the data is multiple different ways and it cannot rely on a single path. "
   ]
  },
  {
   "cell_type": "markdown",
   "metadata": {},
   "source": [
    "Do not initialize your __weights__ to 0. A good rule of thumb is to initialize the weights to be the inverse square fan out out the input layer they are feeding from. Which would look something like this.   \n",
    "\n",
    "weights2 = tf.Variable(\n",
    "    tf.truncated_normal([num_hidden_nodes1, num_hidden_nodes2], stddev=np.sqrt(2.0 / (num_hidden_nodes1))))\n",
    "    \n",
    "It is fine if the __bias__ is initialized to zero. Which would look something like this. \n",
    "\n",
    "biases2 = tf.Variable(tf.zeros([num_hidden_nodes2]))"
   ]
  }
 ],
 "metadata": {
  "kernelspec": {
   "display_name": "Python 3",
   "language": "python",
   "name": "python3"
  },
  "language_info": {
   "codemirror_mode": {
    "name": "ipython",
    "version": 3
   },
   "file_extension": ".py",
   "mimetype": "text/x-python",
   "name": "python",
   "nbconvert_exporter": "python",
   "pygments_lexer": "ipython3",
   "version": "3.6.5"
  }
 },
 "nbformat": 4,
 "nbformat_minor": 2
}
