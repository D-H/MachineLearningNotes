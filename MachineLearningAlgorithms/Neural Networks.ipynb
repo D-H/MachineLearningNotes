{
 "cells": [
  {
   "cell_type": "markdown",
   "metadata": {},
   "source": [
    "# Neural Networks"
   ]
  },
  {
   "cell_type": "markdown",
   "metadata": {},
   "source": [
    "## Importing random stuff I need"
   ]
  },
  {
   "cell_type": "code",
   "execution_count": 9,
   "metadata": {},
   "outputs": [],
   "source": [
    "# These are all the modules we'll be using later. Make sure you can import them\n",
    "# before proceeding further.\n",
    "from __future__ import print_function\n",
    "import re\n",
    "import imageio\n",
    "import seaborn as sns\n",
    "import matplotlib.pyplot as plt\n",
    "import numpy as np\n",
    "import pandas as pd\n",
    "import os\n",
    "import csv\n",
    "import sys\n",
    "import tarfile\n",
    "import random\n",
    "from IPython.display import display, Image\n",
    "from matplotlib.ticker import MaxNLocator\n",
    "\n",
    "# Config the matplotlib backend as plotting inline in IPython\n",
    "%matplotlib inline"
   ]
  },
  {
   "cell_type": "markdown",
   "metadata": {},
   "source": [
    "## Components that make up a neural network\n",
    "\n",
    "1. An input layer, __x__. This can accept large volumes of data as input to build the network.\n",
    "2. An arbitrary amount of __hidden layers__\n",
    "3. An ouput layer, __y__\n",
    "4. A set of __weights__ and __biases__ between each layer, __W and b__\n",
    "5. A choice of __activation function__ for each hidden layer, __sigma__\n",
    "\n",
    "Below is the equation of a neural network"
   ]
  },
  {
   "cell_type": "code",
   "execution_count": 49,
   "metadata": {},
   "outputs": [
    {
     "data": {
      "text/latex": [
       "\\begin{align}\n",
       "Y = \\sigma(W_2\\sigma(W_1x + b_1) + b_2)\n",
       "\\end{align}"
      ],
      "text/plain": [
       "<IPython.core.display.Latex object>"
      ]
     },
     "metadata": {},
     "output_type": "display_data"
    }
   ],
   "source": [
    "%%latex\n",
    "\\begin{align}\n",
    "Y = \\sigma(W_2\\sigma(W_1x + b_1) + b_2)\n",
    "\\end{align}"
   ]
  },
  {
   "cell_type": "markdown",
   "metadata": {},
   "source": [
    "It makes sense that it is the right values for the weights and bias that determine the strength of the prediction. The process of fine tuning the weights and biases of a neural network is called __training the neural network.__"
   ]
  },
  {
   "cell_type": "markdown",
   "metadata": {},
   "source": [
    "Each iteration of the training process consists of the following steps: \n",
    "1. Calculating the predicted output _y_ known as __feed forward__.\n",
    "2. Updating the weights and biases, known as __backpropogation__"
   ]
  },
  {
   "cell_type": "markdown",
   "metadata": {},
   "source": [
    "We also need to evaluate the \"goodness\" of our predictions. We can do this using a __loss function__. A classic loss function is the sum of squares. The formula is below."
   ]
  },
  {
   "cell_type": "code",
   "execution_count": 50,
   "metadata": {},
   "outputs": [
    {
     "data": {
      "text/latex": [
       "\\begin{align}\n",
       "error = \\sum(y_{predict} - y_{actual})^2\n",
       "\\end{align}"
      ],
      "text/plain": [
       "<IPython.core.display.Latex object>"
      ]
     },
     "metadata": {},
     "output_type": "display_data"
    }
   ],
   "source": [
    "%%latex\n",
    "\\begin{align}\n",
    "error = \\sum(y_{predict} - y_{actual})^2\n",
    "\\end{align}"
   ]
  },
  {
   "cell_type": "markdown",
   "metadata": {},
   "source": [
    "Now that we have measured the error of our prediction (loss), we need to find a way to __propgate__ the error back and update our weights and biases.\n",
    "\n",
    "In order to do this we can take the __derivative of our loss function with respect to the weights and biases__.\n",
    "\n",
    "Because the Weight and Bias are not part of the sum of squares equation we will have to use the chain rule. Below is shown how this is done."
   ]
  },
  {
   "cell_type": "code",
   "execution_count": 1,
   "metadata": {},
   "outputs": [
    {
     "data": {
      "text/latex": [
       "\\begin{align}\n",
       "Loss(\\hat{y}, y) = \\sum(y - \\hat{y})^2\n",
       "\n",
       "\\newline\n",
       "\n",
       "\\frac{\\partial  Loss(\\hat{y}, y)}{\\partial W} = \n",
       "\\frac{\\partial  Loss(\\hat{y}, y)}{\\partial W} *\n",
       "\\frac{\\partial  \\hat{y}}{\\partial z} *\n",
       "\\frac{\\partial  z}{\\partial W}\n",
       "\\quad where \\: z = Wx + b\n",
       "\n",
       "\\newline\n",
       "\n",
       "= 2(y - \\hat{y}) * derivative \\: of \\: sigmoid * x\n",
       "        \n",
       "\\newline\n",
       "\n",
       "= 2(y - \\hat{y}) * z(1-z) * x\n",
       "        \n",
       "\\end{align}"
      ],
      "text/plain": [
       "<IPython.core.display.Latex object>"
      ]
     },
     "metadata": {},
     "output_type": "display_data"
    }
   ],
   "source": [
    "%%latex\n",
    "\\begin{align}\n",
    "Loss(\\hat{y}, y) = \\sum(y - \\hat{y})^2\n",
    "\n",
    "\\newline\n",
    "\n",
    "\\frac{\\partial  Loss(\\hat{y}, y)}{\\partial W} = \n",
    "\\frac{\\partial  Loss(\\hat{y}, y)}{\\partial W} *\n",
    "\\frac{\\partial  \\hat{y}}{\\partial z} *\n",
    "\\frac{\\partial  z}{\\partial W}\n",
    "\\quad where \\: z = Wx + b\n",
    "\n",
    "\\newline\n",
    "\n",
    "= 2(y - \\hat{y}) * derivative \\: of \\: sigmoid * x\n",
    "        \n",
    "\\newline\n",
    "\n",
    "= 2(y - \\hat{y}) * z(1-z) * x\n",
    "        \n",
    "\\end{align}"
   ]
  },
  {
   "cell_type": "markdown",
   "metadata": {},
   "source": [
    "## Activation Functions\n",
    "\n",
    "What does an artifical neuron do? Simply put, it calculates a \"weighted sum\" of its input, adds a bias and then decides whether it should be \"fired\" or not. \n",
    "\n",
    "So consider a neuron. Below is a formula of what a neuron does."
   ]
  },
  {
   "cell_type": "code",
   "execution_count": 8,
   "metadata": {},
   "outputs": [
    {
     "data": {
      "text/latex": [
       "\\begin{align}\n",
       "Y = \\sum(weight * input) + bias\n",
       "\\end{align}"
      ],
      "text/plain": [
       "<IPython.core.display.Latex object>"
      ]
     },
     "metadata": {},
     "output_type": "display_data"
    }
   ],
   "source": [
    "%%latex\n",
    "\\begin{align}\n",
    "Y = \\sum(weight * input) + bias\n",
    "\\end{align}"
   ]
  },
  {
   "cell_type": "markdown",
   "metadata": {},
   "source": [
    "## Structure of 2 Layer Neural Network\n",
    "\n",
    "Input Layer -> Weights 1 -> Hidden Layer -> Weights 2 -> Output"
   ]
  },
  {
   "cell_type": "markdown",
   "metadata": {},
   "source": [
    "So how do we decide if something should fire or not. Y can range from -inf to +inf and we need to figure out if the neuron should fire or not. This is why we have our __activation functions__.\n",
    "\n",
    "The first thing that comes to mind as an activation function is a threshold based activation function. That is to say if the value of Y goes above some certain value, declare it actived. If it is less than the threshold, then say it's not.\n",
    "\n",
    "Thus are decision looks like if Y > A then activate, else don't activate. \n",
    "\n",
    "Pretty much all we have created is a step function."
   ]
  },
  {
   "cell_type": "code",
   "execution_count": 20,
   "metadata": {},
   "outputs": [
    {
     "data": {
      "text/plain": [
       "[<matplotlib.lines.Line2D at 0x1ad026a0438>]"
      ]
     },
     "execution_count": 20,
     "metadata": {},
     "output_type": "execute_result"
    },
    {
     "data": {
      "image/png": "[encoded data removed]",
      "text/plain": [
       "<Figure size 432x288 with 1 Axes>"
      ]
     },
     "metadata": {},
     "output_type": "display_data"
    }
   ],
   "source": [
    "points = np.array([[-1, 0, 0, 1],\n",
    "                   [0, 0, 1, 1]])\n",
    "\n",
    "plt.title(\"Step Function\")\n",
    "plt.plot(points[0], points[1])"
   ]
  },
  {
   "cell_type": "markdown",
   "metadata": {},
   "source": [
    "This works well but there are some problems. This would be great for a binary classifer, where there are only 2 classes but if there are more than those 2 classes. So let's say you bring in more neurons to be able to classify more classes but then now all of them get activated for some reason what class would you choose.\n",
    "\n",
    "So we probably actually want to have a function that is not as much binary as a step function. We want a function that will tell us like this neuron is 50%, 20% or X% activated so that if mulitple neurons are activated we can choose the one that is the most active. \n",
    "\n",
    "Okay so really we want something that is going to give us anaolog (continous) values. The first thing that comes to my mind is a linear function."
   ]
  },
  {
   "cell_type": "code",
   "execution_count": 21,
   "metadata": {},
   "outputs": [
    {
     "data": {
      "text/latex": [
       "\\begin{align}\n",
       "Y = c * x\n",
       "\\end{align}"
      ],
      "text/plain": [
       "<IPython.core.display.Latex object>"
      ]
     },
     "metadata": {},
     "output_type": "display_data"
    }
   ],
   "source": [
    "%%latex\n",
    "\\begin{align}\n",
    "Y = c * x\n",
    "\\end{align}"
   ]
  },
  {
   "cell_type": "code",
   "execution_count": 23,
   "metadata": {},
   "outputs": [
    {
     "data": {
      "text/plain": [
       "[<matplotlib.lines.Line2D at 0x1ad0274a588>]"
      ]
     },
     "execution_count": 23,
     "metadata": {},
     "output_type": "execute_result"
    },
    {
     "data": {
      "image/png": "[encoded data removed]",
      "text/plain": [
       "<Figure size 432x288 with 1 Axes>"
      ]
     },
     "metadata": {},
     "output_type": "display_data"
    }
   ],
   "source": [
    "points = np.array([[-1, 1]\n",
    "                 ,[-1, 1]])\n",
    "\n",
    "plt.plot(points[0], points[1])"
   ]
  },
  {
   "cell_type": "markdown",
   "metadata": {},
   "source": [
    "With this function we could most definetly connect a few neurons together and if more than 1 fires, we could take the max (softmax) and decided based on that.\n",
    "\n",
    "The problem with this is when we take the gradient. It is simply equal to c, it has no relation to the X value. This will make our gradient decent much more difficult when we are trying to optimize.\n",
    "\n",
    "There is another problem as well, just think about the connected layers. Each layer is activated by a linear function. That activation goes to the next level as input and the second layer calculates weighted sum on that input and in turn fires based on another linear activation function. This means that the final layer is nothing but just a linear function of the input of first layer. So we just lost the ability to stack layers. Also, this makes sense because a combination of linear functions in a linear manner is still just another linear function.\n",
    "\n",
    "So maybe we should try a different function, let's try the __sigmoid function__"
   ]
  },
  {
   "cell_type": "code",
   "execution_count": 30,
   "metadata": {},
   "outputs": [
    {
     "data": {
      "text/latex": [
       "\\begin{align}\n",
       "h_ \\theta (x) =  \\frac{1}{1 + e^{-x} }\n",
       "\\end{align}"
      ],
      "text/plain": [
       "<IPython.core.display.Latex object>"
      ]
     },
     "metadata": {},
     "output_type": "display_data"
    }
   ],
   "source": [
    "%%latex\n",
    "\\begin{align}\n",
    "h_ \\theta (x) =  \\frac{1}{1 + e^{-x} }\n",
    "\\end{align}"
   ]
  },
  {
   "cell_type": "code",
   "execution_count": 41,
   "metadata": {},
   "outputs": [
    {
     "data": {
      "text/plain": [
       "[<matplotlib.lines.Line2D at 0x1ad02582668>]"
      ]
     },
     "execution_count": 41,
     "metadata": {},
     "output_type": "execute_result"
    },
    {
     "data": {
      "image/png": "[encoded data removed]",
      "text/plain": [
       "<Figure size 432x288 with 1 Axes>"
      ]
     },
     "metadata": {},
     "output_type": "display_data"
    }
   ],
   "source": [
    "def sigmoid_function(x):\n",
    "    return (1 / (1 + np.exp(-x)))\n",
    "\n",
    "x_range = np.arange(-20, 20, 0.1)\n",
    "y_values = np.vectorize(sigmoid_function)(x_range)\n",
    "\n",
    "plt.plot(x_range, y_values)"
   ]
  },
  {
   "cell_type": "markdown",
   "metadata": {},
   "source": [
    "Okay, so this function is nice because it has 2 properties.\n",
    "\n",
    "1. It is non-linear\n",
    "2. It is non-binary\n",
    "\n",
    "It also has a smooth gradient that is non-constant, so that is nice. One property of the sigmoid function is that x values between -2 and 2 the Y changes very rapidly. This means that Y has a tendency to go to either extreme (1 or 0). It is also nice that the Y values are always going to stick between 0 and 1, unlike the linear function that could go from -int to inf.\n",
    "\n",
    "The only other issue we sorta have is this, when X becomes extremely large the rate of change (gradient) shrinks. There are ways to work around this problem and sigmoid is still very popular for classification problems. \n",
    "\n",
    "Coming from the same ideas, is the concept of tanh. It is simply a scaled version of the sigmoid function but with slighly stronger gradients. "
   ]
  },
  {
   "cell_type": "markdown",
   "metadata": {},
   "source": [
    "### ReLu\n",
    "\n",
    "Later comes the __ReLu__ function"
   ]
  },
  {
   "cell_type": "code",
   "execution_count": 42,
   "metadata": {},
   "outputs": [
    {
     "data": {
      "text/latex": [
       "\\begin{align}\n",
       "A(x) = max(0, x)\n",
       "\\end{align}"
      ],
      "text/plain": [
       "<IPython.core.display.Latex object>"
      ]
     },
     "metadata": {},
     "output_type": "display_data"
    }
   ],
   "source": [
    "%%latex\n",
    "\\begin{align}\n",
    "A(x) = max(0, x)\n",
    "\\end{align}"
   ]
  },
  {
   "cell_type": "code",
   "execution_count": 44,
   "metadata": {},
   "outputs": [
    {
     "data": {
      "text/plain": [
       "Text(0.5,1,'ReLu function')"
      ]
     },
     "execution_count": 44,
     "metadata": {},
     "output_type": "execute_result"
    },
    {
     "data": {
      "image/png": "[encoded data removed]",
      "text/plain": [
       "<Figure size 432x288 with 1 Axes>"
      ]
     },
     "metadata": {},
     "output_type": "display_data"
    }
   ],
   "source": [
    "x = [-1, 0, 1]\n",
    "y = [0, 0, 1]\n",
    "\n",
    "plt.plot(x, y)\n",
    "plt.title(\"ReLu function\")"
   ]
  },
  {
   "cell_type": "markdown",
   "metadata": {},
   "source": [
    "At first it would seem that it would have the same problem as linear functions. But the ReLu is non-linear.\n",
    "\n",
    "Alos just imagine that with a sigmoid function most things would either be firing or not firing. That means that everything single neuron is important, we ideally want a few neurons in the network to not fire and therby making the activation more sparse and more efficient. \n",
    "\n",
    "However, there is some problems with the ReLu, the gradient can go towards 0. Because of the horizontal line of the ReLu, the gradient can go to 0. This means that neurons that go into that state will stop responding to variation in error. This is called the dying ReLu problem. There are variations where you set the y = 0.01x for x < 0. This will make the line slightly inclined, this is called a Leaky ReLu function. "
   ]
  },
  {
   "cell_type": "markdown",
   "metadata": {},
   "source": []
  },
  {
   "cell_type": "markdown",
   "metadata": {},
   "source": [
    "In a neural network the __hidden layer__ is a layer between input layers and output layers, where artificial neurons take a set of weighted inputs and produce outputs through activation function."
   ]
  },
  {
   "cell_type": "markdown",
   "metadata": {},
   "source": [
    "Every neural network has 3 types of layers:\n",
    "1. __Input.__ Every single neural network must have one of this kind of layer. The number of neurons in this layer is completely determined by the number of features in your training data.\n",
    "2. __Hidden__. Sometimes you may not even need a hidden layer if your data is linearly seperable. And usually the number of nodes you need in a hidden layer is the mean of the output and input layers. And often you only need a single hidden layer.\n",
    "3. __Output.__ Every single neural network must have this kind of layer as well. The number is determined by the kind of NN you are trying to create. If it is a neural network trying to do regression you will only have a single output node but if you are trying to logistic classification then it is likely you will have an output class which you will probably take the softmax of."
   ]
  }
 ],
 "metadata": {
  "kernelspec": {
   "display_name": "Python 3",
   "language": "python",
   "name": "python3"
  },
  "language_info": {
   "codemirror_mode": {
    "name": "ipython",
    "version": 3
   },
   "file_extension": ".py",
   "mimetype": "text/x-python",
   "name": "python",
   "nbconvert_exporter": "python",
   "pygments_lexer": "ipython3",
   "version": "3.6.5"
  }
 },
 "nbformat": 4,
 "nbformat_minor": 2
}
