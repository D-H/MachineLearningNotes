{
 "cells": [
  {
   "cell_type": "markdown",
   "metadata": {},
   "source": [
    "__Train:__ Used dataset used to fit the model.\n",
    "\n",
    "__Valid:__ Used to test do an unbiased test against the model created using the training data. This dataset can also be used for tuning the hyper parameters.\n",
    "\n",
    "__Test:__ This dataset is used as a FINAL evaluation of our model. This dataset should be tested against sparingly. "
   ]
  }
 ],
 "metadata": {
  "kernelspec": {
   "display_name": "Python 3",
   "language": "python",
   "name": "python3"
  },
  "language_info": {
   "codemirror_mode": {
    "name": "ipython",
    "version": 3
   },
   "file_extension": ".py",
   "mimetype": "text/x-python",
   "name": "python",
   "nbconvert_exporter": "python",
   "pygments_lexer": "ipython3",
   "version": "3.6.5"
  }
 },
 "nbformat": 4,
 "nbformat_minor": 2
}
